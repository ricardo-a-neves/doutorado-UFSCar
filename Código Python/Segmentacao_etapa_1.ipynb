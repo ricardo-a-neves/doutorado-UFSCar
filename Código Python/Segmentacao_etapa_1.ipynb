{
 "cells": [
  {
   "cell_type": "markdown",
   "metadata": {
    "id": "aygXAnNIWVaq"
   },
   "source": [
    "### Etapa 1 - Processo de Segmentação (Remoção de Fundo Complexo)"
   ]
  },
  {
   "cell_type": "code",
   "execution_count": 1,
   "metadata": {
    "id": "oV3nuMm-7jkz"
   },
   "outputs": [],
   "source": [
    "# Bibliotecas Utilizadas\n",
    "import numpy as np\n",
    "import matplotlib.pyplot as plt\n",
    "import scipy.ndimage as ndi\n",
    "from sklearn.cluster import KMeans\n",
    "import skimage.color\n",
    "import cv2\n",
    "from scipy import misc\n",
    "from skimage.color import rgb2gray\n",
    "from skimage import color\n",
    "import skimage.metrics\n",
    "from sklearn.metrics import mean_squared_error\n",
    "from skimage.metrics import structural_similarity\n",
    "from skimage.metrics import peak_signal_noise_ratio\n",
    "from PIL import Image\n",
    "from scipy import ndimage\n",
    "import functions as fun\n",
    "import time\n",
    "import pandas as pd\n",
    "import statistics as st\n",
    "import glob\n",
    "from IPython.display import display, Javascript \n",
    "from os import chdir, getcwd, listdir\n",
    "from os.path import isfile\n",
    "import os\n",
    "import oci\n",
    "import boto3\n",
    "from docx import Document\n",
    "from docx.shared import Inches"
   ]
  },
  {
   "cell_type": "markdown",
   "metadata": {},
   "source": [
    "#### Configurações e Funcionalidades Buckets - Oracle Cloud"
   ]
  },
  {
   "cell_type": "code",
   "execution_count": 163,
   "metadata": {},
   "outputs": [],
   "source": [
    "# Função para configurações da Oracle Cloud\n",
    "def config_cloud(flag):\n",
    "\n",
    "    # Variável para URL de definição do Endpoint\n",
    "    if flag == 'p':\n",
    "        # Ambiente de Produção - Configuração Cloud\n",
    "        url = \"https://grinqewrovfi.compat.objectstorage.sa-saopaulo-1.oraclecloud.com\" \n",
    "    \n",
    "    elif flag =='t':\n",
    "        # Ambiente de Testes - Configuração Cloud\n",
    "        url = \"https://grwbzp0j0zza.compat.objectstorage.sa-saopaulo-1.oraclecloud.com\"\n",
    "    \n",
    "    # Chamada de função para configuração Cloud\n",
    "    fun.configuration_Cloud()\n",
    "\n",
    "    # Chamada de função para obter o \"resource\"\n",
    "    resource_value = fun.resource()\n",
    "       \n",
    "    return url, resource_value"
   ]
  },
  {
   "cell_type": "markdown",
   "metadata": {},
   "source": [
    "#### Obter as imagens do Banco de Imagens Embrapa"
   ]
  },
  {
   "cell_type": "code",
   "execution_count": 164,
   "metadata": {},
   "outputs": [],
   "source": [
    "# Function to get objects selected bucket\n",
    "def objects_to_bucket(flag, bucket, resource_value, url):\n",
    "    # Path in defined\n",
    "    path_in = \"/home/datascience/db_imagens/\"\n",
    "    \n",
    "    if contador_imagens ==0:\n",
    "        os.makedirs(path_in)\n",
    "        \n",
    "    # Print all buckets\n",
    "    try:\n",
    "        for bucket_name in resource_value.buckets.all():\n",
    "            print (bucket_name.name)\n",
    "        print(\"\\n Conexao com sucesso na cloud!!\\n\")\n",
    "    except:\n",
    "        print(\"Falha de conexao na cloud\")    \n",
    "    \n",
    "    files = fun.getObjectsToBucket(str(bucket), resource_value)\n",
    "\n",
    "    # Flag 'd' - Data download process - Boto3 (API)\n",
    "    if flag == 'd':\n",
    "        # Function call for download file: destination data science workspace - folder db_imagens\n",
    "        fun.download_to_bucket(str(bucket), url, files, path_in)\n",
    "        message = \"Download de arquivos com sucesso!!\"\n",
    "    \n",
    "    # Flag 's' - Data synchronism process - rclone (API)\n",
    "    elif flag == 's':\n",
    "        try:\n",
    "            cmd = 'rclone sync ' + str(bucket)+ \":\" + str(bucket) + \" \" + path_in\n",
    "            os.system(cmd)\n",
    "            message = \"Arquivos sincronizados com successo!!\"\n",
    "        except:\n",
    "            message = \"Erro de sincronismo\"\n",
    "    \n",
    "    return message, path_in"
   ]
  },
  {
   "cell_type": "code",
   "execution_count": 165,
   "metadata": {},
   "outputs": [],
   "source": [
    "# Função para armazenar Filepaths para processamento\n",
    "def armazenar_filepaths_processamento(contador_imagens):\n",
    "    global nome_imagem\n",
    "    # Configurar parâmetros dos diretórios\n",
    "    path_in = 'db_imagens/'\n",
    "          \n",
    "    filepaths = [f for f in os.listdir(path_in) if f.endswith('.jpg')]\n",
    "    number_files = len(filepaths)\n",
    "\n",
    "    nome_imagem = str(filepaths[contador_imagens])\n",
    "    pasta = nome_imagem[-12::]\n",
    "    nomeTeste= 'Processamento '+ str(contador_imagens) + ' - Qualificação'\n",
    "    \n",
    "    return path_in, nome_imagem, pasta, filepaths, nomeTeste, number_files"
   ]
  },
  {
   "cell_type": "markdown",
   "metadata": {},
   "source": [
    "#### Uso das Imagens do banco de dados da Embrapa\n",
    "#### Parâmetros de Configuração do Processo"
   ]
  },
  {
   "cell_type": "code",
   "execution_count": 166,
   "metadata": {},
   "outputs": [],
   "source": [
    "# Função para configuração de Parâmetros e Diretórios\n",
    "def parameters_config(path_in, nome_imagem, coordJanela_1, coordJanela_2, coordJanela_3, coordJanela_4):\n",
    "    \n",
    "    path_out = 'Segmentacao_Etapa_1/' + nome_imagem + '/'\n",
    "    path_out_labels = 'Segmentacao_Etapa_1/' + nome_imagem + '/' + 'labels/'\n",
    "    os.makedirs(path_out)\n",
    "    os.makedirs(path_out_labels)\n",
    "\n",
    "    # Leitura do arquivo de Imagem no disco\n",
    "    nome_imagem = nome_imagem    \n",
    "\n",
    "    img_orig = plt.imread(path_in + nome_imagem)\n",
    "\n",
    "    return path_out, img_orig, nome_imagem, path_out_labels"
   ]
  },
  {
   "cell_type": "markdown",
   "metadata": {},
   "source": [
    "#### Equalização do Histograma da Imagem - Canal Verde"
   ]
  },
  {
   "cell_type": "code",
   "execution_count": 167,
   "metadata": {},
   "outputs": [],
   "source": [
    "# Função para equalização de histograma da imagem\n",
    "def equalizar_imagem(img_green_):\n",
    "    img_green = cv2.equalizeHist(img_green_)\n",
    "\n",
    "    #Plotar as Imagens\n",
    "    plt.figure(figsize=[15,15])\n",
    "    plt.subplot(121), plt.imshow(img_green_)\n",
    "    plt.title('Imagem Canal Verde')\n",
    "    plt.subplot(122), plt.imshow(img_green)\n",
    "    plt.title('Imagem Canal Verde - Equalizado')\n",
    "    plt.show()\n",
    "\n",
    "    return img_green"
   ]
  },
  {
   "cell_type": "markdown",
   "metadata": {
    "id": "i4PeUSc2bNP6"
   },
   "source": [
    "#### Salvar a imagem do Canal Verde em disco"
   ]
  },
  {
   "cell_type": "code",
   "execution_count": 168,
   "metadata": {
    "colab": {
     "base_uri": "https://localhost:8080/",
     "height": 320
    },
    "id": "-yEfccp4bJGp",
    "outputId": "a554b64c-6971-427f-b919-9afc1da91c9f"
   },
   "outputs": [],
   "source": [
    "# Função para gravar em Disco a imagem Canal Verde\n",
    "def salvar_imagem_verde(img_green_, img_green, url, path_out, nome_imagem):\n",
    "    fun.salvarImagemSegmentadaDisco (img_green_, path_out + 'img_canal_verde_' + nome_imagem)\n",
    "    fun.salvarImagemSegmentadaDisco (img_green, path_out + 'img_canal_verde_equal_' + nome_imagem)\n",
    "\n",
    "    # Function call Upload files function from workspace files to Selected Bucket\n",
    "    fun.upload_from_bucket('BK-segmented-images-1', url, path_out + 'img_canal_verde_' + nome_imagem)\n",
    "    # Function call Upload files function from workspace files to Selected Bucket\n",
    "    fun.upload_from_bucket('BK-segmented-images-1', url, path_out + 'img_canal_verde_equal_' + nome_imagem)"
   ]
  },
  {
   "cell_type": "markdown",
   "metadata": {},
   "source": [
    "#### Processo de Limiarização da Imagem"
   ]
  },
  {
   "cell_type": "code",
   "execution_count": 169,
   "metadata": {},
   "outputs": [],
   "source": [
    "## Função para limiarização da imagem (Canal Verde)\n",
    "def limiarizar_imagem(img_green, th1, th2, url, path_out, nome_imagem):\n",
    "    # Usar uma cópia da imagem do canal verde (para não alterar a variável original)\n",
    "    img_gravada_verde = img_green.copy()\n",
    "\n",
    "    # Chamada do método de Limiarização\n",
    "    img_limiarizada = fun.threshold(img_gravada_verde, th1, th2)\n",
    "\n",
    "    # Visualização da imagem\n",
    "    plt.figure(figsize=[15, 15])\n",
    "    plt.title('Imagem Limiarizada')\n",
    "    plt.imshow(img_limiarizada)    \n",
    "\n",
    "    # Chamada de função para gravar em Disco\n",
    "    fun.salvarImagemSegmentadaDisco(img_limiarizada, path_out + 'img_limiarizada_' + nome_imagem)\n",
    "\n",
    "    # Function call Upload files function from workspace files to Selected Bucket\n",
    "    fun.upload_from_bucket('BK-segmented-images-1', url, path_out + 'img_limiarizada_' + nome_imagem)\n",
    "\n",
    "    return img_gravada_verde, img_limiarizada"
   ]
  },
  {
   "cell_type": "code",
   "execution_count": 170,
   "metadata": {},
   "outputs": [],
   "source": [
    "# Função para binarizar imagem\n",
    "def binarizar_imagem(img_limiarizada, th1, th2, url, path_out, nome_imagem):\n",
    "    img_binar = fun.binarizarImagem(img_limiarizada, th1, th2)\n",
    "    plt.title('Imagem Binarizada')\n",
    "    plt.imshow(img_binar)\n",
    "\n",
    "    # Chamada de função para gravar em Disco\n",
    "    fun.salvarImagemSegmentadaDisco(img_binar, path_out + 'img_binarizada_' + nome_imagem)\n",
    "\n",
    "    # Function call Upload files function from workspace files to Selected Bucket\n",
    "    fun.upload_from_bucket('BK-segmented-images-1', url,  path_out + 'img_binarizada_' + nome_imagem)\n",
    "\n",
    "    return img_binar"
   ]
  },
  {
   "cell_type": "code",
   "execution_count": 171,
   "metadata": {
    "colab": {
     "base_uri": "https://localhost:8080/",
     "height": 269
    },
    "id": "0L_rkXqFOndT",
    "outputId": "ad757e19-a179-4084-a5fb-9be2fd22badc"
   },
   "outputs": [],
   "source": [
    "# Função para recuperar os pixes de referência\n",
    "def recuperar_pixels_ref(img_binar, img_orig, path_out, url, nome_imagem):\n",
    "\n",
    "    #Padronização de nome de variável. Criação de cópia da imagem\n",
    "    img = img_binar.copy()\n",
    "\n",
    "    matriz_reconst_bin = fun.reconstruirMatrizPixelsReferencia(img_orig,img, 'IMG_SEGMENTADA')\n",
    "    plt.title('Imagem Segmentada - Pixels Recuperados')\n",
    "    plt.imshow(matriz_reconst_bin)\n",
    "\n",
    "    # Chamada de função para gravar em Disco imagem reconstruida na etapa de limiarização\n",
    "    #fun.salvarImagemSegmentadaDisco (matriz_reconst_bin, str(fun.path) + 'verdes\\imagem_reconstruida_etapa_lim.jpg')\n",
    "    fun.salvarImagemDiscoRGB(matriz_reconst_bin, path_out + 'imagem_reconstruida_etapa_lim_' + nome_imagem)\n",
    "\n",
    "    # Function call Upload files function from workspace files to Selected Bucket\n",
    "    fun.upload_from_bucket('BK-segmented-images-1', url, path_out + 'imagem_reconstruida_etapa_lim_' + nome_imagem)\n",
    "\n",
    "    # Padronização da imagem reconstruída\n",
    "    img = matriz_reconst_bin.copy()\n",
    "\n",
    "    return img"
   ]
  },
  {
   "cell_type": "markdown",
   "metadata": {
    "id": "sRgU1_zIJDsz"
   },
   "source": [
    "#### Método Elbow - Técnica usada para a obtenção do valor ideal para 'K'- Algoritmo K-Means"
   ]
  },
  {
   "cell_type": "code",
   "execution_count": 172,
   "metadata": {
    "id": "aY7fZPF2JD4D"
   },
   "outputs": [],
   "source": [
    "# Chamada da Técnica Elbow (Estimativa para número de clusters - K-Means)\n",
    "#fun.elbow (img)"
   ]
  },
  {
   "cell_type": "markdown",
   "metadata": {
    "id": "WJUn73i1VwSJ"
   },
   "source": [
    "#### Aplicação do Método de Segmentação - Uso do K-means no espaço de cores RGB"
   ]
  },
  {
   "cell_type": "code",
   "execution_count": 173,
   "metadata": {
    "colab": {
     "base_uri": "https://localhost:8080/",
     "height": 800
    },
    "id": "nr3ydto-VwYh",
    "outputId": "b032c727-63f8-44e3-8dd1-5f961a293721"
   },
   "outputs": [],
   "source": [
    "# Função algoritmo K-Means\n",
    "def algoritmo_Kmeans(img):\n",
    "    num_clusters = 6\n",
    "    km,labels,img_labels = fun.kmeans(num_clusters,img)\n",
    "\n",
    "    # Exibir a imagem com todos os labels juntos\n",
    "    plt.figure(figsize=[15,15])\n",
    "    plt.title('Todos os Labels K-Means Juntos')\n",
    "    plt.imshow(img_labels)\n",
    "    \n",
    "    return km,labels,img_labels, num_clusters"
   ]
  },
  {
   "cell_type": "markdown",
   "metadata": {
    "id": "WEyf4FhtzMui"
   },
   "source": [
    "#### Visualização das imagens original e os labels da Segmentação (mais significativos)"
   ]
  },
  {
   "cell_type": "code",
   "execution_count": 174,
   "metadata": {
    "colab": {
     "base_uri": "https://localhost:8080/",
     "height": 363
    },
    "id": "5E0OPnXWzM4p",
    "outputId": "a25b80d7-efca-4889-c330-d651ccffeb49"
   },
   "outputs": [],
   "source": [
    "# Função para exibição dos Labels Gerados pelo Algoritmo K-Means\n",
    "def exibir_labels_kmeans(img_labels_closed):\n",
    "    plt.figure(figsize=[15, 15])\n",
    "    plt.subplot(1, 6, 1)\n",
    "    plt.imshow(img_labels_closed[0],'gray')\n",
    "    plt.title('Label 0')\n",
    "\n",
    "    plt.subplot(1, 6, 2)\n",
    "    plt.imshow(img_labels_closed[1],'gray')\n",
    "    plt.title('Label 1')\n",
    "\n",
    "    plt.subplot(1, 6, 3)\n",
    "    plt.imshow(img_labels_closed[2],'gray')\n",
    "    plt.title('Label 2')\n",
    "\n",
    "    plt.subplot(1, 6, 4)\n",
    "    plt.imshow(img_labels_closed[3],'gray')\n",
    "    plt.title('Label 3')\n",
    "\n",
    "    plt.subplot(1, 6, 5)\n",
    "    plt.imshow(img_labels_closed[4],'gray')\n",
    "    plt.title('Label 4')\n",
    "\n",
    "    plt.subplot(1, 6, 6)\n",
    "    plt.imshow(img_labels_closed[5],'gray')\n",
    "    plt.title('Label 5')    "
   ]
  },
  {
   "cell_type": "markdown",
   "metadata": {
    "id": "pB8ivJTBOndV"
   },
   "source": [
    "#### Gravar imagens: processo restauração de pixels\n",
    "#### (Pixels do Label (K-Means) Significativo x Pixels imagem Original)"
   ]
  },
  {
   "cell_type": "code",
   "execution_count": 175,
   "metadata": {},
   "outputs": [],
   "source": [
    "# Função para restaurar os pixels originais da imagem de rederência - Etapa Final Sementação\n",
    "def restaurar_pixels_kmeans(img_orig,img_labels_closed, coordJanela_1, coordJanela_2, coordJanela_3, coordJanela_4):\n",
    "    matriz_restaurada =[]\n",
    "    # Restauração de label 0\n",
    "    matriz_restaurada_0 = fun.reconstruirMatrizPixelsReferencia(img_orig,img_labels_closed[0], 'IMG_FINAL',\\\n",
    "                                                                coordJanela_1, coordJanela_2, coordJanela_3, coordJanela_4)\n",
    "    matriz_restaurada.append(matriz_restaurada_0)\n",
    "    # Restauração de label 1\n",
    "    matriz_restaurada_1 = fun.reconstruirMatrizPixelsReferencia(img_orig,img_labels_closed[1], 'IMG_FINAL',\\\n",
    "                                                                coordJanela_1, coordJanela_2, coordJanela_3, coordJanela_4)\n",
    "    matriz_restaurada.append(matriz_restaurada_1)\n",
    "    # Restauração de label 2\n",
    "    matriz_restaurada_2 = fun.reconstruirMatrizPixelsReferencia(img_orig,img_labels_closed[2], 'IMG_FINAL',\\\n",
    "                                                                coordJanela_1, coordJanela_2, coordJanela_3, coordJanela_4)\n",
    "    matriz_restaurada.append(matriz_restaurada_2)\n",
    "    # Restauração de label 3\n",
    "    matriz_restaurada_3 = fun.reconstruirMatrizPixelsReferencia(img_orig,img_labels_closed[3], 'IMG_FINAL',\\\n",
    "                                                                coordJanela_1, coordJanela_2, coordJanela_3, coordJanela_4)\n",
    "    matriz_restaurada.append(matriz_restaurada_3)\n",
    "    # Restauração de label 4\n",
    "    matriz_restaurada_4 = fun.reconstruirMatrizPixelsReferencia(img_orig,img_labels_closed[4], 'IMG_FINAL',\\\n",
    "                                                                coordJanela_1, coordJanela_2, coordJanela_3, coordJanela_4)\n",
    "    matriz_restaurada.append(matriz_restaurada_4)\n",
    "    # Restauração de label 5\n",
    "    matriz_restaurada_5 = fun.reconstruirMatrizPixelsReferencia(img_orig,img_labels_closed[5], 'IMG_FINAL',\\\n",
    "                                                                coordJanela_1, coordJanela_2, coordJanela_3, coordJanela_4)\n",
    "    matriz_restaurada.append(matriz_restaurada_5)\n",
    "\n",
    "    return matriz_restaurada"
   ]
  },
  {
   "cell_type": "code",
   "execution_count": 176,
   "metadata": {},
   "outputs": [],
   "source": [
    "# Função para exibir as imagens Restauradas - Labels de 0 até 2\n",
    "def exibir_labels_0_2(matriz_restaurada):\n",
    "    plt.figure(figsize=[20, 20])\n",
    "    plt.subplot(1, 3, 1)\n",
    "    plt.imshow(matriz_restaurada[0])\n",
    "    plt.title('Segmentada - Label 0')\n",
    "    plt.subplot(1, 3, 2)\n",
    "    plt.imshow(matriz_restaurada[1])\n",
    "    plt.title('Segmentada - Label 1')\n",
    "    plt.subplot(1, 3, 3)\n",
    "    plt.imshow(matriz_restaurada[2])\n",
    "    plt.title('Segmentada - Label 2')"
   ]
  },
  {
   "cell_type": "code",
   "execution_count": 177,
   "metadata": {},
   "outputs": [],
   "source": [
    "# Função para exibir as imagens Restauradas - Labels de 3 até 5\n",
    "def exibir_labels_3_5(matriz_restaurada):\n",
    "    plt.figure(figsize=[20, 20])\n",
    "    plt.subplot(1, 3, 1)\n",
    "    plt.imshow(matriz_restaurada[3])\n",
    "    plt.title('Segmentada - Label 3')\n",
    "    plt.subplot(1, 3, 2)\n",
    "    plt.imshow(matriz_restaurada[4])\n",
    "    plt.title('Segmentada - Label 4')\n",
    "    plt.subplot(1, 3, 3)\n",
    "    plt.imshow(matriz_restaurada[5])\n",
    "    plt.title('Segmentada - Label 5')"
   ]
  },
  {
   "cell_type": "code",
   "execution_count": 178,
   "metadata": {},
   "outputs": [],
   "source": [
    "# Função para salvar as imagens Restauradas - Todos os Labels\n",
    "def salvar_img_restauradas(matriz_restaurada, path_out_labels, url, nome_imagem):\n",
    "    # Chamada de função para upload de arquivos da 'area de trabalho' para o bucket selecionado\n",
    "    #  para todos os labels do k-means\n",
    "    fun.salvarImagemDiscoRGB(matriz_restaurada[0], path_out_labels + 'img_segmentada_restaurada_0_' + nome_imagem)\n",
    "    fun.upload_from_bucket('BK-segmented-images-1', url, path_out_labels + 'img_segmentada_restaurada_0_' + nome_imagem)\n",
    "    fun.salvarImagemDiscoRGB(matriz_restaurada[1], path_out_labels + 'img_segmentada_restaurada_1_' + nome_imagem)\n",
    "    fun.upload_from_bucket('BK-segmented-images-1', url, path_out_labels + 'img_segmentada_restaurada_1_' + nome_imagem)\n",
    "    fun.salvarImagemDiscoRGB(matriz_restaurada[2], path_out_labels + 'img_segmentada_restaurada_2_' + nome_imagem)\n",
    "    fun.upload_from_bucket('BK-segmented-images-1', url, path_out_labels + 'img_segmentada_restaurada_2_' + nome_imagem)\n",
    "    fun.salvarImagemDiscoRGB(matriz_restaurada[3], path_out_labels + 'img_segmentada_restaurada_3_' + nome_imagem)\n",
    "    fun.upload_from_bucket('BK-segmented-images-1', url, path_out_labels + 'img_segmentada_restaurada_3_' + nome_imagem)\n",
    "    fun.salvarImagemDiscoRGB(matriz_restaurada[4], path_out_labels + 'img_segmentada_restaurada_4_' + nome_imagem)\n",
    "    fun.upload_from_bucket('BK-segmented-images-1', url, path_out_labels + 'img_segmentada_restaurada_4_' + nome_imagem)\n",
    "    fun.salvarImagemDiscoRGB(matriz_restaurada[5], path_out_labels + 'img_segmentada_restaurada_5_' + nome_imagem)\n",
    "    fun.upload_from_bucket('BK-segmented-images-1', url, path_out_labels + 'img_segmentada_restaurada_5_' + nome_imagem)"
   ]
  },
  {
   "cell_type": "markdown",
   "metadata": {
    "id": "i2uQhgH2OndW"
   },
   "source": [
    "#### Exibe label escolhido e da imagem segmentada correspondente"
   ]
  },
  {
   "cell_type": "code",
   "execution_count": 179,
   "metadata": {
    "colab": {
     "base_uri": "https://localhost:8080/",
     "height": 487
    },
    "id": "XjhMOrUSOndW",
    "outputId": "a868e1b4-7d18-43ee-9004-2b4cfac5a715"
   },
   "outputs": [],
   "source": [
    "# Função para Exibição do label e imagem escolhidos\n",
    "def exibir_label_imagem_escolhidos(img_labels_closed, url, label_significativo, path_out_labels, nome_imagem):\n",
    "    img_gravada = img_labels_closed[label_significativo]\n",
    "\n",
    "    matriz_escolhida = cv2.cvtColor(cv2.imread(path_out_labels + 'img_segmentada_restaurada_' + \\\n",
    "                                               str(label_significativo) + '_' + nome_imagem), cv2.COLOR_BGR2RGB)\n",
    "\n",
    "    # Plotar as imagens\n",
    "    plt.figure(figsize=[15, 15])\n",
    "    plt.subplot(1, 2, 1)\n",
    "    plt.imshow(img_gravada)\n",
    "    plt.title('Label Escolhido')\n",
    "    plt.subplot(1, 2, 2)\n",
    "    plt.imshow(matriz_escolhida)\n",
    "    plt.title('Imagem Segmentada Correspondente')\n",
    "    \n",
    "    # Gravar arquivo em disco - Resultado\n",
    "    plt.savefig(path_out_labels + 'label_escolhido_img_segmentada.png', format='png')\n",
    "    fun.salvarImagemDiscoRGB(matriz_escolhida, path_out_labels +\\\n",
    "                             '/img_segment_escolh_label_' + str(label_significativo) + '_' + nome_imagem)\n",
    "    \n",
    "    # Chamada de função para upload de arquivos da 'area de trabalho' para o bucket selecionado\n",
    "    fun.upload_from_bucket('BK-segmented-images-1', url, path_out_labels +\\\n",
    "                             '/img_segment_escolh_label_' + str(label_significativo) + '_' + nome_imagem)\n",
    "\n",
    "    return matriz_escolhida, img_gravada"
   ]
  },
  {
   "cell_type": "markdown",
   "metadata": {},
   "source": [
    "#### Pré-Processamento: Suavização (Filtro de Mediana)"
   ]
  },
  {
   "cell_type": "code",
   "execution_count": 180,
   "metadata": {},
   "outputs": [],
   "source": [
    "# Função para aplicação do Filtro de Mediana\n",
    "def filtro_mediana(img_orig, path_out, url, nome_imagem):\n",
    "    img_suave = cv2.medianBlur(img_orig,3)\n",
    "\n",
    "    #Plotar as Imagens\n",
    "    plt.figure(figsize=[20,20])\n",
    "    plt.subplot(121),plt.imshow(img_orig)\n",
    "    plt.title('Imagem Original')\n",
    "    plt.subplot(122)\n",
    "    plt.imshow(img_suave)\n",
    "    plt.title('Suavização - Filtro de Mediana')\n",
    "    plt.show()\n",
    "\n",
    "    # Chamada de função para gravar em Disco a imagem suavizada\n",
    "    fun.salvarImagemSegmentadaDisco (img_suave, path_out + 'img_filtro_mediana_' + nome_imagem)\n",
    "    # Chamada de função para upload de arquivos da 'area de trabalho' para o bucket selecionado\n",
    "    fun.upload_from_bucket('BK-segmented-images-1', url, path_out + 'img_filtro_mediana_' + nome_imagem)\n",
    "\n",
    "    return img_suave"
   ]
  },
  {
   "cell_type": "markdown",
   "metadata": {},
   "source": [
    "#### Métricas Processo de Filtragem (Filtro Mediana)"
   ]
  },
  {
   "cell_type": "code",
   "execution_count": 181,
   "metadata": {},
   "outputs": [],
   "source": [
    "# Função para calcular métricas processo filtragem\n",
    "def metricas_filtragem(img_orig, path_out, path_out_labels, url, img_suave):\n",
    "    \n",
    "    img_gray_1 = cv2.cvtColor(cv2.imread(path_in + nome_imagem), cv2.COLOR_BGR2RGB)\n",
    "    img_gray_2 = cv2.cvtColor(cv2.imread(path_out_labels + 'img_segmentada_restaurada_' + str(label_significativo) + '_' + nome_imagem), cv2.COLOR_BGR2RGB)\n",
    "    img_gray_3 = cv2.cvtColor(cv2.imread(path_out + 'img_filtro_mediana_' + nome_imagem), cv2.COLOR_BGR2RGB)\n",
    "    \n",
    "    text = ''\n",
    "    text+= \"----------------------------------\\n\"\n",
    "    text+= \"Etapa 1 - \" + nome_imagem + '\\n'\n",
    "    # Redimensiona o array para 2 dimensões\n",
    "    data_1 = img_orig.reshape(img_orig.shape[0]*img_orig.shape[1], 3)\n",
    "    data_2 = img_suave.reshape(img_suave.shape[0]*img_suave.shape[1], 3)\n",
    "\n",
    "    # Calcular MSE (Mean Squared Error)\n",
    "    # Imagem Original e Imagem com Filtro de Mediana\n",
    "    mse = mean_squared_error(data_1, data_2)\n",
    "    text+=\"MSE: \" + str(mse) + '\\n'\n",
    "\n",
    "    # Peak signal to noise ratio\n",
    "    # Imagem Original e Imagem com Filtro de Mediana\n",
    "    psnr = peak_signal_noise_ratio(data_1, data_2)\n",
    "    text+=\"PSNR: \" + str(psnr) + '\\n'\n",
    "\n",
    "    ## Calcular o Structural Similarity Index (SSIM) entre duas imagens\n",
    "    # Retorna a diferença entre as imagens\n",
    "    (score, diff) = structural_similarity(img_gray_1, img_gray_3, full=True, multichannel=True)\n",
    "    diff = (diff * 255).astype(\"uint8\")\n",
    "    # Imprimir os valores de Score e diff\n",
    "    text +=\"SSIM: {}\".format(score)\n",
    "    text+= \"\\n----------------------------------\"\n",
    "\n",
    "    # Gravar arquivo de texto com as métricas sementes_calculadas_janela\n",
    "    with open(path_out + 'metricas_filtragem_' + nome_imagem + '.txt', 'w') as f:\n",
    "        f.write(text)\n",
    "        \n",
    "    # Chamada de função para upload de arquivos da 'area de trabalho' para o bucket selecionado\n",
    "    fun.upload_from_bucket('BK-segmented-images-1', url, path_out +\\\n",
    "                           'metricas_filtragem_' + nome_imagem + '.txt')\n",
    "       \n",
    "    return mse, psnr, score, diff, text, img_gray_1, img_gray_2, img_gray_3"
   ]
  },
  {
   "cell_type": "markdown",
   "metadata": {},
   "source": [
    "#### Comparação de Histogramas - Imagem Original e Segmentada"
   ]
  },
  {
   "cell_type": "code",
   "execution_count": 182,
   "metadata": {},
   "outputs": [],
   "source": [
    "# Função para comparar histogramas das imagens\n",
    "def comparar_histogramas(url, path_out, img_gray_1, img_gray_2, coordJanela_1,coord_Janela_2,\\\n",
    "                         coordJanela_3,coordJanela_4):\n",
    "    # Considerada a janela (Objeto de Interesse)\n",
    "    # Criar a Máscara\n",
    "    mask = np.zeros(img_gray_1.shape[:2], np.uint8)\n",
    "    mask[coordJanela_1:coord_Janela_2, coordJanela_3:coordJanela_4] = 255\n",
    "    masked_img = cv2.bitwise_and(img_gray_1,img_gray_1,mask = mask)\n",
    "\n",
    "    # Calcular o Histograma com a Máscara\n",
    "    hist_mask = cv2.calcHist([img_gray_1],[0],mask,[256],[0,255])\n",
    "    hist_mask_2 = cv2.calcHist([img_gray_2],[0],mask,[256],[0,255])\n",
    "\n",
    "    # Exibir o gráfico de Comparação dos Histogramas\n",
    "    plt.figure(figsize=[15,15])\n",
    "    plt.subplot(224), plt.plot(hist_mask, color='red', label='Original'),\\\n",
    "        plt.plot(hist_mask_2, color ='blue', label='Segmentada')\n",
    "    plt.title('Histogramas_' + nome_imagem)\n",
    "    plt.legend()\n",
    "    plt.xlim([0,255])\n",
    "  \n",
    "    # Gravar arquivo em disco - Resultado Canal Verde\n",
    "    plt.savefig(path_out + 'histogramas_' + nome_imagem, format='jpg')\n",
    "    \n",
    "    # Chamada de função para upload de arquivos da 'area de trabalho' para o bucket selecionado\n",
    "    fun.upload_from_bucket('BK-segmented-images-1', url, path_out + 'histogramas_' + nome_imagem)\n",
    "\n",
    "    plt.show() \n",
    "        \n",
    "    return mask, masked_img, hist_mask, hist_mask_2"
   ]
  },
  {
   "cell_type": "markdown",
   "metadata": {},
   "source": [
    "#### Inicialização de Variáveis - Execução do Processo de Segmentação Etapa 1"
   ]
  },
  {
   "cell_type": "code",
   "execution_count": 370,
   "metadata": {},
   "outputs": [],
   "source": [
    "### ------------------------------------ ###\n",
    "### Inicialização do contador de imagens\n",
    "### ------------------------------------ ###\n",
    "global contador_imagens\n",
    "contador_imagens =29\n",
    "\n",
    "### -------------------------------------------------------- ###\n",
    "# Parâmetros das Coordenadas da Janela do Objeto de Interesse\n",
    "### -------------------------------------------------------- ###\n",
    "global coordJanela_1, coordJanela_2, coordJanela_3, coordJanela_4\n",
    "#550, 2700, 1300, 2700 => Parâmetros para folhas verticais\n",
    "#900, 2300, 900, 2900 => Parâmetros para folhas horizontais\n",
    "\n",
    "#Considerados os parâmetros das folhas verticais e horizontais\n",
    "#   para deixar a janela com a abertura para contemplar ambos os casos\n",
    "#   550, 2700, 700, 3200\n",
    "\n",
    "coordJanela_1, coordJanela_2, coordJanela_3, coordJanela_4 = 550, 2700, 700, 3200"
   ]
  },
  {
   "cell_type": "markdown",
   "metadata": {},
   "source": [
    "#### Execução do Processo de Segmentação Etapa 1 (Parte 1)\n"
   ]
  },
  {
   "cell_type": "code",
   "execution_count": null,
   "metadata": {},
   "outputs": [],
   "source": [
    "#####---------------------------------------#####\n",
    " ## PASSOS APÓS A EXECUÇÃO DA PRIMEIRA IMAGEM ##\n",
    "#####---------------------------------------#####\n",
    "\n",
    "# Chamada de função para configuração da cloud\n",
    "url,resource_value = config_cloud('p')\n",
    "\n",
    "# Chamada de função para busca de objetos na cloud mo bucket selecionado\n",
    "message, path_in = objects_to_bucket('s', 'BK-images-1', resource_value, url)\n",
    "\n",
    "# Chamada de função para armazenar Filepaths para processamento\n",
    "path_in, nome_imagem, pasta, filepaths, nomeTeste,\\\n",
    "    number_files = armazenar_filepaths_processamento(contador_imagens)\n",
    "print(str(filepaths) + '\\n')\n",
    "\n",
    "# Chamada de função para configuração de Parâmetros e Diretórios\n",
    "path_out, img_orig, nome_imagem, path_out_labels = parameters_config(path_in, nome_imagem, coordJanela_1,\\\n",
    "                                                     coordJanela_2, coordJanela_3, coordJanela_4)\n",
    "\n",
    "## Chamar função de exibição de propriedades da imagem\n",
    "fun.caracteristicasImagem(img_orig)\n",
    "\n",
    "# Chamada de função para plotar imagens com os canais de cores separados\n",
    "img_red_, img_green_, img_blue_ = fun.plotaGraficoCanaisImagem(img_orig)\n",
    "\n",
    "# Chamada de função para equalização de histograma da imagem\n",
    "img_green = equalizar_imagem(img_green_)\n",
    "\n",
    "# Chamada de função para gravar em Disco a imagem Canal Verde\n",
    "salvar_imagem_verde(img_green_, img_green, url, path_out, nome_imagem)\n",
    "\n",
    "## Chamada de função para limiarização da imagem (Canal Verde)\n",
    "img_gravada_verde, img_limiarizada = limiarizar_imagem(img_green, 0, 200, url, path_out, nome_imagem)\n",
    "\n",
    "# Chamada de função para binarizar imagem\n",
    "img_binar = binarizar_imagem(img_limiarizada, 0, 200, url, path_out, nome_imagem)\n",
    "\n",
    "# Chamada de função para recuperar os pixes de referência\n",
    "img = recuperar_pixels_ref(img_binar, img_orig, path_out, url, nome_imagem)\n",
    "\n",
    "# Chamada de função algoritmo K-Means\n",
    "km,labels,img_labels, num_clusters = algoritmo_Kmeans(img)\n",
    "\n",
    "# Chamada Função para exibir rotulos (baseado no número de clusters)\n",
    "# Exibe os rótulos separados da imagem processada (Cada Cluster do K-Means gera um rótulo)\n",
    "img_labels_closed = fun.exibeRotulos(num_clusters, img_labels, img)\n",
    "\n",
    "# Chamada de função para exibir os Labels gerados pelo algoritmo K-Means\n",
    "exibir_labels_kmeans(img_labels_closed)"
   ]
  },
  {
   "cell_type": "markdown",
   "metadata": {},
   "source": [
    "#### Ação Supervisionada"
   ]
  },
  {
   "cell_type": "code",
   "execution_count": null,
   "metadata": {},
   "outputs": [],
   "source": [
    "global label_significativo\n",
    "\n",
    "####-------------------------------------------------------####\n",
    "####----------------(AÇÃO SUPERVISIONADA)------------------####\n",
    "# Escolha do label mais significativo do algoritmo K-Means\n",
    "print(\"Imagem em Análise: \" + nome_imagem + \"\\n\")\n",
    "label_significativo = int(input(\"Digite o valor do Label mais significativo (K-Means): \"))\n",
    "####-------------------------------------------------------####"
   ]
  },
  {
   "cell_type": "markdown",
   "metadata": {},
   "source": [
    "#### Execução do Processo de Segmentação Etapa 1 (Parte 2)"
   ]
  },
  {
   "cell_type": "code",
   "execution_count": null,
   "metadata": {},
   "outputs": [],
   "source": [
    "# Função para restaurar os pixels originais da imagem de rederência - Etapa Final Sementação\n",
    "matriz_restaurada = restaurar_pixels_kmeans(img_orig, img_labels_closed, coordJanela_1,\\\n",
    "                                            coordJanela_2, coordJanela_3, coordJanela_4)\n",
    "\n",
    "# Chamada de função para exibir as imagens Restauradas - Labels de 0 até 2\n",
    "exibir_labels_0_2(matriz_restaurada)\n",
    "\n",
    "# Chamada de função para exibir as imagens Restauradas - Labels de 3 até 5\n",
    "exibir_labels_3_5(matriz_restaurada)\n",
    "\n",
    "# Chamada de função para salvar as imagens Restauradas - Todos os Labels\n",
    "salvar_img_restauradas(matriz_restaurada, path_out_labels, url, nome_imagem)\n",
    "\n",
    "# Chamada de função para Exibição do label e imagem escolhidos\n",
    "matriz_escolhida, img_gravada = exibir_label_imagem_escolhidos(img_labels_closed, url,\\\n",
    "                                                               label_significativo, path_out_labels, nome_imagem)    \n",
    "\n",
    "# ------ Chamada de função para aplicação do Filtro de Mediana -------\n",
    "img_suave = filtro_mediana(matriz_escolhida, path_out, url, nome_imagem)\n",
    "\n",
    "# Chamada de função para calcular métricas processo filtragem\n",
    "mse, psnr, score, diff, text, img_gray_1, img_gray_2,\\\n",
    "    img_gray_3 = metricas_filtragem(img_orig, path_out, path_out_labels, url, img_suave)\n",
    "\n",
    "# Chamada de função para comparar histogramas das imagens\n",
    "mask, masked_img, hist_mask, hist_mask_2 = comparar_histogramas(url, path_out, img_gray_1, img_gray_2,\\\n",
    "     coordJanela_1,coordJanela_2, coordJanela_3,coordJanela_4)\n",
    "\n",
    "# Verifica se o processamento está finalizado\n",
    "if contador_imagens == number_files:\n",
    "    print(\"\\nContador incrementado =>\" + str(contador_imagens) + \" ATENÇÃO!! ÚLTIMA IMAGEM PARA PROCESSAR!! \")\n",
    "else:\n",
    "    contador_imagens+=1\n",
    "    print(\"\\n\\n Contador incrementado => Próxima Imagem à Processar: \" + str(contador_imagens))"
   ]
  }
 ],
 "metadata": {
  "colab": {
   "collapsed_sections": [],
   "include_colab_link": true,
   "name": "Código Qualificação_IMAGEM CANAL VERDE.ipynb",
   "provenance": []
  },
  "interpreter": {
   "hash": "d99bee5ac7fba42a41f75ce2aa40f9445cc578fd0881fa1cde080cd4468cc6d1"
  },
  "kernelspec": {
   "display_name": "Python 3",
   "language": "python",
   "name": "python3"
  },
  "language_info": {
   "codemirror_mode": {
    "name": "ipython",
    "version": 3
   },
   "file_extension": ".py",
   "mimetype": "text/x-python",
   "name": "python",
   "nbconvert_exporter": "python",
   "pygments_lexer": "ipython3",
   "version": "3.6.15"
  }
 },
 "nbformat": 4,
 "nbformat_minor": 4
}
