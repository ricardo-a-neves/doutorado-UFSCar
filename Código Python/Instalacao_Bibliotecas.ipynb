{
 "cells": [
  {
   "attachments": {},
   "cell_type": "markdown",
   "id": "00f87b4f",
   "metadata": {},
   "source": [
    "## Instalação de Bibliotecas do Projeto"
   ]
  },
  {
   "cell_type": "code",
   "execution_count": null,
   "id": "fa6ea396",
   "metadata": {},
   "outputs": [],
   "source": [
    "# Instalação de biblioteca para criar visualizações estáticas, animadas e interativas em Python\n",
    "!pip install matplotlib==3.6.0 --user"
   ]
  },
  {
   "cell_type": "code",
   "execution_count": null,
   "id": "a664850c",
   "metadata": {},
   "outputs": [],
   "source": [
    "# Instalação de biblioteca de visualização de dados interativa e de código aberto para Python\n",
    "!pip install plotly==5.3.1"
   ]
  },
  {
   "cell_type": "code",
   "execution_count": null,
   "id": "ff504db3",
   "metadata": {},
   "outputs": [],
   "source": [
    "# Instalação de biblioteca para Converter docx para pdfWindows ou macOS diretamente usando o Microsoft Word (deve ser instalado)\n",
    "!pip install docx2pdf"
   ]
  },
  {
   "cell_type": "code",
   "execution_count": null,
   "id": "8c0faa59",
   "metadata": {},
   "outputs": [],
   "source": [
    "# Instalação de biblioteca para leitura, criação e atualização de arquivos do Microsoft Word 2007+ (.docx)\n",
    "!pip install python-docx"
   ]
  },
  {
   "cell_type": "code",
   "execution_count": null,
   "id": "72231254",
   "metadata": {},
   "outputs": [],
   "source": [
    "# Seaborn é uma biblioteca de visualização Python baseada em matplotlib. \n",
    "# Ela fornece uma interface de alto nível para desenhar gráficos estatísticos atraentes\n",
    "!pip install seaborn"
   ]
  },
  {
   "cell_type": "code",
   "execution_count": null,
   "id": "a506f540",
   "metadata": {},
   "outputs": [],
   "source": [
    "# Instalação de biblioteca desenvolvida especificamente para aplicação prática de machine learning\n",
    "!pip install scikit-learn"
   ]
  },
  {
   "cell_type": "code",
   "execution_count": null,
   "id": "7ddd3e3b",
   "metadata": {},
   "outputs": [],
   "source": [
    "# Driver MySQL escrito em Python que não depende das bibliotecas cliente MySQL C e implementa a especificação DB API v2.0 (PEP-249)\n",
    "!pip install mysql-connector-python"
   ]
  },
  {
   "cell_type": "code",
   "execution_count": null,
   "id": "23d9d8b4",
   "metadata": {},
   "outputs": [],
   "source": [
    "# Instalação de biblioteca para desenvolvimento de software (SDK) da Amazon Web Services (AWS) para Python.and\n",
    "# Permite aos desenvolvedores Python escrever software que faz uso de serviços como Amazon S3 e Amazon EC2\n",
    "!pip install boto3"
   ]
  },
  {
   "cell_type": "code",
   "execution_count": null,
   "id": "52b68f68",
   "metadata": {},
   "outputs": [],
   "source": [
    "# Instalação de biblioteca para Processamento de Imagens\n",
    "!pip install scikit-image"
   ]
  },
  {
   "cell_type": "code",
   "execution_count": null,
   "id": "9def4ecd",
   "metadata": {},
   "outputs": [],
   "source": [
    "# Instalação de biblioteca OpenCV\n",
    "!pip install opencv-python"
   ]
  },
  {
   "cell_type": "code",
   "execution_count": null,
   "id": "ebf19741",
   "metadata": {},
   "outputs": [],
   "source": [
    "#!sudo yum install -y oracle-epel-release-el7 && sudo yum install -y rclone"
   ]
  },
  {
   "cell_type": "code",
   "execution_count": null,
   "id": "ce8394f8",
   "metadata": {},
   "outputs": [],
   "source": [
    "# Instalação de biblioteca para acesso ao Banco de Dados Oracle\n",
    "!python -m pip install cx_Oracle --upgrade"
   ]
  },
  {
   "cell_type": "code",
   "execution_count": null,
   "id": "9375a4a6",
   "metadata": {},
   "outputs": [],
   "source": [
    "# Copia dos arquivos Wallet - Acesso Banco Oracle\n",
    "#!sudo cp /home/datascience/Wallet_FontesDados/*.* /lib/oracle/19.6/client64/lib"
   ]
  },
  {
   "cell_type": "code",
   "execution_count": null,
   "id": "4ffa6aa0",
   "metadata": {},
   "outputs": [],
   "source": [
    "# Configuraçao de variável de ambiente\n",
    "#!export TNS_ADMIN=\"$TNS_ADMIN:/lib/oracle/19.6/client64/lib\""
   ]
  },
  {
   "cell_type": "code",
   "execution_count": null,
   "id": "7f6ffa5d",
   "metadata": {},
   "outputs": [],
   "source": [
    "#!sudo chmod 777 /etc/environment\n",
    "#!echo \"TNS_ADMIN=/lib/oracle/19.6/client64/lib\" > /etc/environment"
   ]
  },
  {
   "cell_type": "code",
   "execution_count": null,
   "id": "25cf202a",
   "metadata": {},
   "outputs": [],
   "source": [
    "# Instalação de Biblioteca Streamlit\n",
    "!pip install streamlit"
   ]
  },
  {
   "cell_type": "code",
   "execution_count": null,
   "id": "ff1eeca9",
   "metadata": {},
   "outputs": [],
   "source": [
    "# Instalação de Biblioteca para Configuração de Layout Streamlit\n",
    "!pip install streamlit-nested-layout"
   ]
  },
  {
   "cell_type": "code",
   "execution_count": null,
   "id": "4ed3c104",
   "metadata": {},
   "outputs": [],
   "source": [
    "# Instalação de biblioteca para lógica difusa\n",
    "!pip install scikit-fuzzy"
   ]
  },
  {
   "cell_type": "code",
   "execution_count": null,
   "id": "f0401ece",
   "metadata": {},
   "outputs": [],
   "source": [
    "# Instalação de biblioteca para instruções de Cadeias Ocultas de Markov\n",
    "!pip install hmmlearn"
   ]
  },
  {
   "cell_type": "code",
   "execution_count": null,
   "id": "e35137f8",
   "metadata": {},
   "outputs": [],
   "source": [
    "# Instalação de pacote básico de ferramentas\n",
    "!pip install setuptools"
   ]
  },
  {
   "cell_type": "code",
   "execution_count": null,
   "id": "266a70fb",
   "metadata": {},
   "outputs": [],
   "source": [
    "# Instalação da biblioteca de acesso à OCI Oracle\n",
    "!pip install oci"
   ]
  },
  {
   "cell_type": "code",
   "execution_count": null,
   "id": "d545f322",
   "metadata": {},
   "outputs": [],
   "source": [
    "# Instalação da biblioteca Pandas. \n",
    "#    => Deve ser anterior à versão 2.0, pois a instrução 'append' foi descontinuada após a versão 2.0 \n",
    "!pip install pandas==1.5.3"
   ]
  }
 ],
 "metadata": {
  "kernelspec": {
   "display_name": "Python 3",
   "language": "python",
   "name": "python3"
  },
  "language_info": {
   "codemirror_mode": {
    "name": "ipython",
    "version": 3
   },
   "file_extension": ".py",
   "mimetype": "text/x-python",
   "name": "python",
   "nbconvert_exporter": "python",
   "pygments_lexer": "ipython3",
   "version": "3.11.9"
  }
 },
 "nbformat": 4,
 "nbformat_minor": 5
}
